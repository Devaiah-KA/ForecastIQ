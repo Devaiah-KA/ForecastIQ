{
 "cells": [
  {
   "cell_type": "markdown",
   "metadata": {},
   "source": [
    "Stock Market Prediction And Forecasting Using Stacked LSTM"
   ]
  },
  {
   "cell_type": "markdown",
   "metadata": {},
   "source": [
    "using keras and tensorflow >2.0"
   ]
  },
  {
   "cell_type": "code",
   "execution_count": 1,
   "metadata": {},
   "outputs": [],
   "source": [
    "import pandas_datareader as pdr\n",
    "key=\"\""
   ]
  },
  {
   "cell_type": "code",
   "execution_count": 7,
   "metadata": {},
   "outputs": [
    {
     "name": "stdout",
     "output_type": "stream",
     "text": [
      "                 open       high        low      close   volume\n",
      "2010-01-04   329.9998   332.3998   323.4998   324.9999   716694\n",
      "2010-01-05   329.3999   331.9999   325.4499   330.0999  1130116\n",
      "2010-01-06   334.2998   335.3499   326.4999   327.0499   805901\n",
      "2010-01-07   329.0498   334.1499   327.0499   329.1499   737678\n",
      "2010-01-08   329.0498   331.9999   324.4999   325.1499   471303\n",
      "...               ...        ...        ...        ...      ...\n",
      "2023-12-22   981.1500   998.6500   976.0000   989.2500   139504\n",
      "2023-12-26   996.2500  1002.5500   989.7500   999.4500    28166\n",
      "2023-12-27  1000.0000  1024.0000   998.4500  1020.9500    52677\n",
      "2023-12-28  1024.7500  1042.0000  1022.2500  1037.4000    52687\n",
      "2023-12-29  1034.0500  1043.0500  1024.3000  1032.8500   616032\n",
      "\n",
      "[3449 rows x 5 columns]\n"
     ]
    }
   ],
   "source": [
    "\n",
    "\n",
    "# Set your Alpha Vantage API key\n",
    "api_key = 'PQG3RXXX5IEZ3FBF'\n",
    "\n",
    "# Retrieve Bharti Airtel stock data from Alpha Vantage\n",
    "df = pdr.DataReader('BHARTIARTL.BO', data_source='av-daily', start='2010-01-01', end='2023-12-31', api_key='PQG3RXXX5IEZ3FBF')\n",
    "\n",
    "# Display the retrieved data\n",
    "print(df)\n"
   ]
  },
  {
   "cell_type": "code",
   "execution_count": 8,
   "metadata": {},
   "outputs": [],
   "source": [
    "df.to_csv('BHARTIARTL.BO.csv')"
   ]
  },
  {
   "cell_type": "code",
   "execution_count": 9,
   "metadata": {},
   "outputs": [],
   "source": [
    "import pandas as pd"
   ]
  },
  {
   "cell_type": "code",
   "execution_count": 10,
   "metadata": {},
   "outputs": [],
   "source": [
    "df=pd.read_csv('BHARTIARTL.BO.csv')"
   ]
  },
  {
   "cell_type": "code",
   "execution_count": 11,
   "metadata": {},
   "outputs": [
    {
     "data": {
      "text/html": [
       "<div>\n",
       "<style scoped>\n",
       "    .dataframe tbody tr th:only-of-type {\n",
       "        vertical-align: middle;\n",
       "    }\n",
       "\n",
       "    .dataframe tbody tr th {\n",
       "        vertical-align: top;\n",
       "    }\n",
       "\n",
       "    .dataframe thead th {\n",
       "        text-align: right;\n",
       "    }\n",
       "</style>\n",
       "<table border=\"1\" class=\"dataframe\">\n",
       "  <thead>\n",
       "    <tr style=\"text-align: right;\">\n",
       "      <th></th>\n",
       "      <th>Unnamed: 0</th>\n",
       "      <th>open</th>\n",
       "      <th>high</th>\n",
       "      <th>low</th>\n",
       "      <th>close</th>\n",
       "      <th>volume</th>\n",
       "    </tr>\n",
       "  </thead>\n",
       "  <tbody>\n",
       "    <tr>\n",
       "      <th>0</th>\n",
       "      <td>2010-01-04</td>\n",
       "      <td>329.9998</td>\n",
       "      <td>332.3998</td>\n",
       "      <td>323.4998</td>\n",
       "      <td>324.9999</td>\n",
       "      <td>716694</td>\n",
       "    </tr>\n",
       "    <tr>\n",
       "      <th>1</th>\n",
       "      <td>2010-01-05</td>\n",
       "      <td>329.3999</td>\n",
       "      <td>331.9999</td>\n",
       "      <td>325.4499</td>\n",
       "      <td>330.0999</td>\n",
       "      <td>1130116</td>\n",
       "    </tr>\n",
       "    <tr>\n",
       "      <th>2</th>\n",
       "      <td>2010-01-06</td>\n",
       "      <td>334.2998</td>\n",
       "      <td>335.3499</td>\n",
       "      <td>326.4999</td>\n",
       "      <td>327.0499</td>\n",
       "      <td>805901</td>\n",
       "    </tr>\n",
       "    <tr>\n",
       "      <th>3</th>\n",
       "      <td>2010-01-07</td>\n",
       "      <td>329.0498</td>\n",
       "      <td>334.1499</td>\n",
       "      <td>327.0499</td>\n",
       "      <td>329.1499</td>\n",
       "      <td>737678</td>\n",
       "    </tr>\n",
       "    <tr>\n",
       "      <th>4</th>\n",
       "      <td>2010-01-08</td>\n",
       "      <td>329.0498</td>\n",
       "      <td>331.9999</td>\n",
       "      <td>324.4999</td>\n",
       "      <td>325.1499</td>\n",
       "      <td>471303</td>\n",
       "    </tr>\n",
       "  </tbody>\n",
       "</table>\n",
       "</div>"
      ],
      "text/plain": [
       "   Unnamed: 0      open      high       low     close   volume\n",
       "0  2010-01-04  329.9998  332.3998  323.4998  324.9999   716694\n",
       "1  2010-01-05  329.3999  331.9999  325.4499  330.0999  1130116\n",
       "2  2010-01-06  334.2998  335.3499  326.4999  327.0499   805901\n",
       "3  2010-01-07  329.0498  334.1499  327.0499  329.1499   737678\n",
       "4  2010-01-08  329.0498  331.9999  324.4999  325.1499   471303"
      ]
     },
     "execution_count": 11,
     "metadata": {},
     "output_type": "execute_result"
    }
   ],
   "source": [
    "df.head()"
   ]
  },
  {
   "cell_type": "markdown",
   "metadata": {},
   "source": [
    "Taking close price"
   ]
  },
  {
   "cell_type": "code",
   "execution_count": 12,
   "metadata": {},
   "outputs": [],
   "source": [
    "df1=df.reset_index()['close']"
   ]
  },
  {
   "cell_type": "code",
   "execution_count": 13,
   "metadata": {},
   "outputs": [
    {
     "data": {
      "text/plain": [
       "0        324.9999\n",
       "1        330.0999\n",
       "2        327.0499\n",
       "3        329.1499\n",
       "4        325.1499\n",
       "          ...    \n",
       "3444     989.2500\n",
       "3445     999.4500\n",
       "3446    1020.9500\n",
       "3447    1037.4000\n",
       "3448    1032.8500\n",
       "Name: close, Length: 3449, dtype: float64"
      ]
     },
     "execution_count": 13,
     "metadata": {},
     "output_type": "execute_result"
    }
   ],
   "source": [
    "df1"
   ]
  },
  {
   "cell_type": "code",
   "execution_count": 14,
   "metadata": {},
   "outputs": [
    {
     "data": {
      "text/plain": [
       "[<matplotlib.lines.Line2D at 0x20625f60130>]"
      ]
     },
     "execution_count": 14,
     "metadata": {},
     "output_type": "execute_result"
    },
    {
     "data": {
      "image/png": "[encoded data removed]",
      "text/plain": [
       "<Figure size 640x480 with 1 Axes>"
      ]
     },
     "metadata": {},
     "output_type": "display_data"
    }
   ],
   "source": [
    "import matplotlib.pyplot as plt\n",
    "plt.plot(df1)"
   ]
  },
  {
   "cell_type": "code",
   "execution_count": 15,
   "metadata": {},
   "outputs": [],
   "source": [
    "### LSTM are sensitive to the scale of the data. so we apply MinMax scaler "
   ]
  },
  {
   "cell_type": "code",
   "execution_count": 16,
   "metadata": {},
   "outputs": [],
   "source": [
    "import numpy as np"
   ]
  },
  {
   "cell_type": "code",
   "execution_count": 17,
   "metadata": {},
   "outputs": [],
   "source": [
    "from sklearn.preprocessing import MinMaxScaler\n",
    "scaler=MinMaxScaler(feature_range=(0,1))\n",
    "df1=scaler.fit_transform(np.array(df1).reshape(-1,1))"
   ]
  },
  {
   "cell_type": "code",
   "execution_count": 18,
   "metadata": {},
   "outputs": [
    {
     "name": "stdout",
     "output_type": "stream",
     "text": [
      "[[0.10401206]\n",
      " [0.11042635]\n",
      " [0.10659035]\n",
      " ...\n",
      " [0.97931078]\n",
      " [1.        ]\n",
      " [0.99427745]]\n"
     ]
    }
   ],
   "source": [
    "print(df1)"
   ]
  },
  {
   "cell_type": "markdown",
   "metadata": {},
   "source": [
    "splitting dataset into train and test split\n"
   ]
  },
  {
   "cell_type": "code",
   "execution_count": 20,
   "metadata": {},
   "outputs": [],
   "source": [
    "training_size=int(len(df1)*0.65)\n",
    "test_size=len(df1)-training_size\n",
    "train_data,test_data=df1[0:training_size,:],df1[training_size:len(df1),:1]"
   ]
  },
  {
   "cell_type": "code",
   "execution_count": 21,
   "metadata": {},
   "outputs": [
    {
     "data": {
      "text/plain": [
       "(2241, 1208)"
      ]
     },
     "execution_count": 21,
     "metadata": {},
     "output_type": "execute_result"
    }
   ],
   "source": [
    "training_size,test_size"
   ]
  },
  {
   "cell_type": "code",
   "execution_count": 22,
   "metadata": {},
   "outputs": [
    {
     "data": {
      "text/plain": [
       "array([[0.10401206],\n",
       "       [0.11042635],\n",
       "       [0.10659035],\n",
       "       ...,\n",
       "       [0.08156206],\n",
       "       [0.08678153],\n",
       "       [0.08087032]])"
      ]
     },
     "execution_count": 22,
     "metadata": {},
     "output_type": "execute_result"
    }
   ],
   "source": [
    "train_data"
   ]
  },
  {
   "cell_type": "code",
   "execution_count": 24,
   "metadata": {},
   "outputs": [],
   "source": [
    "import numpy\n",
    "# convert an array of values into a dataset matrix\n",
    "def create_dataset(dataset, time_step=1):\n",
    "\tdataX, dataY = [], []\n",
    "\tfor i in range(len(dataset)-time_step-1):\n",
    "\t\ta = dataset[i:(i+time_step), 0]   ###i=0, 0,1,2,3-----99 and then in Y_train=   100 \n",
    "\t\tdataX.append(a)\n",
    "\t\tdataY.append(dataset[i + time_step, 0])\n",
    "\treturn numpy.array(dataX), numpy.array(dataY)"
   ]
  },
  {
   "cell_type": "code",
   "execution_count": 25,
   "metadata": {},
   "outputs": [],
   "source": [
    "# reshape into X=t,t+1,t+2,t+3 and Y=t+4\n",
    "time_step = 100\n",
    "X_train, y_train = create_dataset(train_data, time_step)\n",
    "X_test, ytest = create_dataset(test_data, time_step)"
   ]
  },
  {
   "cell_type": "code",
   "execution_count": 26,
   "metadata": {},
   "outputs": [
    {
     "name": "stdout",
     "output_type": "stream",
     "text": [
      "(2140, 100)\n",
      "(2140,)\n"
     ]
    },
    {
     "data": {
      "text/plain": [
       "(None, None)"
      ]
     },
     "execution_count": 26,
     "metadata": {},
     "output_type": "execute_result"
    }
   ],
   "source": [
    "print(X_train.shape), print(y_train.shape)"
   ]
  },
  {
   "cell_type": "code",
   "execution_count": 27,
   "metadata": {},
   "outputs": [
    {
     "name": "stdout",
     "output_type": "stream",
     "text": [
      "(1107, 100)\n",
      "(1107,)\n"
     ]
    },
    {
     "data": {
      "text/plain": [
       "(None, None)"
      ]
     },
     "execution_count": 27,
     "metadata": {},
     "output_type": "execute_result"
    }
   ],
   "source": [
    "print(X_test.shape), print(ytest.shape)"
   ]
  },
  {
   "cell_type": "code",
   "execution_count": 28,
   "metadata": {},
   "outputs": [],
   "source": [
    "# reshape input to be [samples, time steps, features] which is required for LSTM\n",
    "X_train =X_train.reshape(X_train.shape[0],X_train.shape[1] , 1)\n",
    "X_test = X_test.reshape(X_test.shape[0],X_test.shape[1] , 1)"
   ]
  },
  {
   "cell_type": "markdown",
   "metadata": {},
   "source": [
    "Stacked LTSM Model"
   ]
  },
  {
   "cell_type": "code",
   "execution_count": 29,
   "metadata": {},
   "outputs": [],
   "source": [
    "from tensorflow.keras.models import Sequential\n",
    "from tensorflow.keras.layers import Dense\n",
    "from tensorflow.keras.layers import LSTM"
   ]
  },
  {
   "cell_type": "code",
   "execution_count": 30,
   "metadata": {},
   "outputs": [],
   "source": [
    "model=Sequential()\n",
    "model.add(LSTM(50,return_sequences=True,input_shape=(100,1)))\n",
    "model.add(LSTM(50,return_sequences=True))\n",
    "model.add(LSTM(50))\n",
    "model.add(Dense(1))\n",
    "model.compile(loss='mean_squared_error',optimizer='adam')"
   ]
  },
  {
   "cell_type": "code",
   "execution_count": 31,
   "metadata": {},
   "outputs": [
    {
     "name": "stdout",
     "output_type": "stream",
     "text": [
      "Model: \"sequential\"\n",
      "_________________________________________________________________\n",
      " Layer (type)                Output Shape              Param #   \n",
      "=================================================================\n",
      " lstm (LSTM)                 (None, 100, 50)           10400     \n",
      "                                                                 \n",
      " lstm_1 (LSTM)               (None, 100, 50)           20200     \n",
      "                                                                 \n",
      " lstm_2 (LSTM)               (None, 50)                20200     \n",
      "                                                                 \n",
      " dense (Dense)               (None, 1)                 51        \n",
      "                                                                 \n",
      "=================================================================\n",
      "Total params: 50,851\n",
      "Trainable params: 50,851\n",
      "Non-trainable params: 0\n",
      "_________________________________________________________________\n"
     ]
    }
   ],
   "source": [
    "model.summary()"
   ]
  },
  {
   "cell_type": "code",
   "execution_count": 32,
   "metadata": {},
   "outputs": [
    {
     "name": "stdout",
     "output_type": "stream",
     "text": [
      "Model: \"sequential\"\n",
      "_________________________________________________________________\n",
      " Layer (type)                Output Shape              Param #   \n",
      "=================================================================\n",
      " lstm (LSTM)                 (None, 100, 50)           10400     \n",
      "                                                                 \n",
      " lstm_1 (LSTM)               (None, 100, 50)           20200     \n",
      "                                                                 \n",
      " lstm_2 (LSTM)               (None, 50)                20200     \n",
      "                                                                 \n",
      " dense (Dense)               (None, 1)                 51        \n",
      "                                                                 \n",
      "=================================================================\n",
      "Total params: 50,851\n",
      "Trainable params: 50,851\n",
      "Non-trainable params: 0\n",
      "_________________________________________________________________\n"
     ]
    }
   ],
   "source": [
    "model.summary()"
   ]
  },
  {
   "cell_type": "code",
   "execution_count": 33,
   "metadata": {},
   "outputs": [
    {
     "name": "stdout",
     "output_type": "stream",
     "text": [
      "Epoch 1/100\n",
      "34/34 [==============================] - 11s 175ms/step - loss: 0.0022 - val_loss: 0.0014\n",
      "Epoch 2/100\n",
      "34/34 [==============================] - 5s 135ms/step - loss: 5.9195e-04 - val_loss: 0.0020\n",
      "Epoch 3/100\n",
      "34/34 [==============================] - 4s 132ms/step - loss: 4.9538e-04 - val_loss: 0.0011\n",
      "Epoch 4/100\n",
      "34/34 [==============================] - 4s 132ms/step - loss: 4.4803e-04 - val_loss: 9.9620e-04\n",
      "Epoch 5/100\n",
      "34/34 [==============================] - 4s 133ms/step - loss: 4.0425e-04 - val_loss: 7.3227e-04\n",
      "Epoch 6/100\n",
      "34/34 [==============================] - 5s 134ms/step - loss: 3.7712e-04 - val_loss: 0.0015\n",
      "Epoch 7/100\n",
      "34/34 [==============================] - 5s 134ms/step - loss: 3.2147e-04 - val_loss: 0.0014\n",
      "Epoch 8/100\n",
      "34/34 [==============================] - 4s 132ms/step - loss: 3.0981e-04 - val_loss: 8.8247e-04\n",
      "Epoch 9/100\n",
      "34/34 [==============================] - 5s 133ms/step - loss: 2.8861e-04 - val_loss: 0.0014\n",
      "Epoch 10/100\n",
      "34/34 [==============================] - 4s 132ms/step - loss: 2.5859e-04 - val_loss: 7.4499e-04\n",
      "Epoch 11/100\n",
      "34/34 [==============================] - 5s 135ms/step - loss: 2.4354e-04 - val_loss: 5.9214e-04\n",
      "Epoch 12/100\n",
      "34/34 [==============================] - 5s 134ms/step - loss: 2.2744e-04 - val_loss: 5.4244e-04\n",
      "Epoch 13/100\n",
      "34/34 [==============================] - 5s 139ms/step - loss: 2.1765e-04 - val_loss: 0.0011\n",
      "Epoch 14/100\n",
      "34/34 [==============================] - 6s 171ms/step - loss: 2.1262e-04 - val_loss: 0.0020\n",
      "Epoch 15/100\n",
      "34/34 [==============================] - 5s 158ms/step - loss: 2.3621e-04 - val_loss: 0.0012\n",
      "Epoch 16/100\n",
      "34/34 [==============================] - 5s 153ms/step - loss: 1.9331e-04 - val_loss: 0.0017\n",
      "Epoch 17/100\n",
      "34/34 [==============================] - 5s 157ms/step - loss: 2.0986e-04 - val_loss: 7.1721e-04\n",
      "Epoch 18/100\n",
      "34/34 [==============================] - 5s 152ms/step - loss: 1.8610e-04 - val_loss: 5.1850e-04\n",
      "Epoch 19/100\n",
      "34/34 [==============================] - 5s 156ms/step - loss: 1.7729e-04 - val_loss: 8.6527e-04\n",
      "Epoch 20/100\n",
      "34/34 [==============================] - 5s 154ms/step - loss: 1.8495e-04 - val_loss: 0.0010\n",
      "Epoch 21/100\n",
      "34/34 [==============================] - 5s 148ms/step - loss: 1.7809e-04 - val_loss: 6.6635e-04\n",
      "Epoch 22/100\n",
      "34/34 [==============================] - 5s 147ms/step - loss: 1.7319e-04 - val_loss: 0.0011\n",
      "Epoch 23/100\n",
      "34/34 [==============================] - 5s 146ms/step - loss: 1.6678e-04 - val_loss: 0.0012\n",
      "Epoch 24/100\n",
      "34/34 [==============================] - 5s 144ms/step - loss: 1.7019e-04 - val_loss: 7.7526e-04\n",
      "Epoch 25/100\n",
      "34/34 [==============================] - 5s 146ms/step - loss: 1.5260e-04 - val_loss: 3.2407e-04\n",
      "Epoch 26/100\n",
      "34/34 [==============================] - 5s 145ms/step - loss: 1.4792e-04 - val_loss: 3.8434e-04\n",
      "Epoch 27/100\n",
      "34/34 [==============================] - 5s 145ms/step - loss: 1.4511e-04 - val_loss: 3.9613e-04\n",
      "Epoch 28/100\n",
      "34/34 [==============================] - 5s 146ms/step - loss: 1.4257e-04 - val_loss: 3.2095e-04\n",
      "Epoch 29/100\n",
      "34/34 [==============================] - 5s 151ms/step - loss: 1.4096e-04 - val_loss: 3.3002e-04\n",
      "Epoch 30/100\n",
      "34/34 [==============================] - 5s 152ms/step - loss: 1.3784e-04 - val_loss: 3.0203e-04\n",
      "Epoch 31/100\n",
      "34/34 [==============================] - 5s 153ms/step - loss: 1.2979e-04 - val_loss: 2.9977e-04\n",
      "Epoch 32/100\n",
      "34/34 [==============================] - 5s 147ms/step - loss: 1.2483e-04 - val_loss: 4.7843e-04\n",
      "Epoch 33/100\n",
      "34/34 [==============================] - 5s 151ms/step - loss: 1.2581e-04 - val_loss: 7.2283e-04\n",
      "Epoch 34/100\n",
      "34/34 [==============================] - 5s 153ms/step - loss: 1.2555e-04 - val_loss: 3.5592e-04\n",
      "Epoch 35/100\n",
      "34/34 [==============================] - 5s 142ms/step - loss: 1.1427e-04 - val_loss: 3.3994e-04\n",
      "Epoch 36/100\n",
      "34/34 [==============================] - 5s 144ms/step - loss: 1.1578e-04 - val_loss: 5.1962e-04\n",
      "Epoch 37/100\n",
      "34/34 [==============================] - 6s 166ms/step - loss: 1.3521e-04 - val_loss: 2.9796e-04\n",
      "Epoch 38/100\n",
      "34/34 [==============================] - 5s 154ms/step - loss: 1.2363e-04 - val_loss: 3.4449e-04\n",
      "Epoch 39/100\n",
      "34/34 [==============================] - 5s 145ms/step - loss: 1.1753e-04 - val_loss: 4.1622e-04\n",
      "Epoch 40/100\n",
      "34/34 [==============================] - 5s 134ms/step - loss: 1.0584e-04 - val_loss: 2.3844e-04\n",
      "Epoch 41/100\n",
      "34/34 [==============================] - 4s 132ms/step - loss: 1.1023e-04 - val_loss: 2.3413e-04\n",
      "Epoch 42/100\n",
      "34/34 [==============================] - 5s 133ms/step - loss: 1.0211e-04 - val_loss: 4.4728e-04\n",
      "Epoch 43/100\n",
      "34/34 [==============================] - 5s 133ms/step - loss: 1.0240e-04 - val_loss: 3.2186e-04\n",
      "Epoch 44/100\n",
      "34/34 [==============================] - 5s 133ms/step - loss: 1.3272e-04 - val_loss: 2.2989e-04\n",
      "Epoch 45/100\n",
      "34/34 [==============================] - 5s 134ms/step - loss: 9.5284e-05 - val_loss: 2.2682e-04\n",
      "Epoch 46/100\n",
      "34/34 [==============================] - 5s 134ms/step - loss: 9.2467e-05 - val_loss: 4.2494e-04\n",
      "Epoch 47/100\n",
      "34/34 [==============================] - 4s 132ms/step - loss: 9.6662e-05 - val_loss: 2.2118e-04\n",
      "Epoch 48/100\n",
      "34/34 [==============================] - 5s 133ms/step - loss: 8.7511e-05 - val_loss: 2.2664e-04\n",
      "Epoch 49/100\n",
      "34/34 [==============================] - 4s 132ms/step - loss: 8.8728e-05 - val_loss: 2.6180e-04\n",
      "Epoch 50/100\n",
      "34/34 [==============================] - 4s 133ms/step - loss: 9.0514e-05 - val_loss: 2.8319e-04\n",
      "Epoch 51/100\n",
      "34/34 [==============================] - 4s 132ms/step - loss: 8.6882e-05 - val_loss: 2.4740e-04\n",
      "Epoch 52/100\n",
      "34/34 [==============================] - 5s 134ms/step - loss: 8.8786e-05 - val_loss: 2.7713e-04\n",
      "Epoch 53/100\n",
      "34/34 [==============================] - 5s 133ms/step - loss: 8.5015e-05 - val_loss: 2.7127e-04\n",
      "Epoch 54/100\n",
      "34/34 [==============================] - 5s 133ms/step - loss: 8.4804e-05 - val_loss: 2.9549e-04\n",
      "Epoch 55/100\n",
      "34/34 [==============================] - 4s 132ms/step - loss: 8.4074e-05 - val_loss: 4.3772e-04\n",
      "Epoch 56/100\n",
      "34/34 [==============================] - 5s 133ms/step - loss: 8.4758e-05 - val_loss: 2.7462e-04\n",
      "Epoch 57/100\n",
      "34/34 [==============================] - 4s 132ms/step - loss: 8.2083e-05 - val_loss: 2.7563e-04\n",
      "Epoch 58/100\n",
      "34/34 [==============================] - 5s 133ms/step - loss: 8.1224e-05 - val_loss: 2.8115e-04\n",
      "Epoch 59/100\n",
      "34/34 [==============================] - 5s 137ms/step - loss: 8.1996e-05 - val_loss: 6.1137e-04\n",
      "Epoch 60/100\n",
      "34/34 [==============================] - 4s 131ms/step - loss: 8.1723e-05 - val_loss: 3.8738e-04\n",
      "Epoch 61/100\n",
      "34/34 [==============================] - 4s 131ms/step - loss: 7.9827e-05 - val_loss: 2.9803e-04\n",
      "Epoch 62/100\n",
      "34/34 [==============================] - 4s 132ms/step - loss: 8.0899e-05 - val_loss: 3.3572e-04\n",
      "Epoch 63/100\n",
      "34/34 [==============================] - 4s 131ms/step - loss: 7.8784e-05 - val_loss: 4.7693e-04\n",
      "Epoch 64/100\n",
      "34/34 [==============================] - 4s 131ms/step - loss: 8.5436e-05 - val_loss: 5.1820e-04\n",
      "Epoch 65/100\n",
      "34/34 [==============================] - 4s 131ms/step - loss: 9.4067e-05 - val_loss: 4.6180e-04\n",
      "Epoch 66/100\n",
      "34/34 [==============================] - 4s 130ms/step - loss: 8.1594e-05 - val_loss: 5.1155e-04\n",
      "Epoch 67/100\n",
      "34/34 [==============================] - 4s 131ms/step - loss: 8.1108e-05 - val_loss: 3.5093e-04\n",
      "Epoch 68/100\n",
      "34/34 [==============================] - 4s 130ms/step - loss: 8.0389e-05 - val_loss: 3.1620e-04\n",
      "Epoch 69/100\n",
      "34/34 [==============================] - 4s 129ms/step - loss: 7.8124e-05 - val_loss: 3.9569e-04\n",
      "Epoch 70/100\n",
      "34/34 [==============================] - 4s 132ms/step - loss: 8.7142e-05 - val_loss: 4.0752e-04\n",
      "Epoch 71/100\n",
      "34/34 [==============================] - 5s 133ms/step - loss: 8.3296e-05 - val_loss: 5.4801e-04\n",
      "Epoch 72/100\n",
      "34/34 [==============================] - 4s 129ms/step - loss: 8.1744e-05 - val_loss: 4.8491e-04\n",
      "Epoch 73/100\n",
      "34/34 [==============================] - 4s 130ms/step - loss: 8.2634e-05 - val_loss: 3.2995e-04\n",
      "Epoch 74/100\n",
      "34/34 [==============================] - 4s 130ms/step - loss: 8.5467e-05 - val_loss: 7.7523e-04\n",
      "Epoch 75/100\n",
      "34/34 [==============================] - 4s 130ms/step - loss: 7.7970e-05 - val_loss: 3.8808e-04\n",
      "Epoch 76/100\n",
      "34/34 [==============================] - 4s 129ms/step - loss: 7.7468e-05 - val_loss: 5.6978e-04\n",
      "Epoch 77/100\n",
      "34/34 [==============================] - 4s 131ms/step - loss: 7.9259e-05 - val_loss: 5.2072e-04\n",
      "Epoch 78/100\n",
      "34/34 [==============================] - 5s 133ms/step - loss: 8.7635e-05 - val_loss: 9.0517e-04\n",
      "Epoch 79/100\n",
      "34/34 [==============================] - 5s 133ms/step - loss: 8.3943e-05 - val_loss: 3.0254e-04\n",
      "Epoch 80/100\n",
      "34/34 [==============================] - 4s 133ms/step - loss: 8.0081e-05 - val_loss: 3.6528e-04\n",
      "Epoch 81/100\n",
      "34/34 [==============================] - 4s 131ms/step - loss: 8.1308e-05 - val_loss: 3.1048e-04\n",
      "Epoch 82/100\n",
      "34/34 [==============================] - 4s 131ms/step - loss: 7.9195e-05 - val_loss: 3.2280e-04\n",
      "Epoch 83/100\n",
      "34/34 [==============================] - 4s 132ms/step - loss: 8.1552e-05 - val_loss: 2.8764e-04\n",
      "Epoch 84/100\n",
      "34/34 [==============================] - 4s 132ms/step - loss: 7.9168e-05 - val_loss: 3.5272e-04\n",
      "Epoch 85/100\n",
      "34/34 [==============================] - 5s 133ms/step - loss: 8.1013e-05 - val_loss: 2.9640e-04\n",
      "Epoch 86/100\n",
      "34/34 [==============================] - 5s 134ms/step - loss: 7.8042e-05 - val_loss: 7.3487e-04\n",
      "Epoch 87/100\n",
      "34/34 [==============================] - 5s 134ms/step - loss: 8.0575e-05 - val_loss: 2.8562e-04\n",
      "Epoch 88/100\n",
      "34/34 [==============================] - 5s 133ms/step - loss: 7.8897e-05 - val_loss: 5.9749e-04\n",
      "Epoch 89/100\n",
      "34/34 [==============================] - 4s 132ms/step - loss: 9.0504e-05 - val_loss: 4.1664e-04\n",
      "Epoch 90/100\n",
      "34/34 [==============================] - 5s 135ms/step - loss: 9.1403e-05 - val_loss: 3.7873e-04\n",
      "Epoch 91/100\n",
      "34/34 [==============================] - 4s 132ms/step - loss: 8.1276e-05 - val_loss: 2.8112e-04\n",
      "Epoch 92/100\n",
      "34/34 [==============================] - 4s 131ms/step - loss: 8.2040e-05 - val_loss: 4.0856e-04\n",
      "Epoch 93/100\n",
      "34/34 [==============================] - 5s 136ms/step - loss: 8.2344e-05 - val_loss: 2.7723e-04\n",
      "Epoch 94/100\n",
      "34/34 [==============================] - 5s 149ms/step - loss: 8.2248e-05 - val_loss: 5.4668e-04\n",
      "Epoch 95/100\n",
      "34/34 [==============================] - 5s 150ms/step - loss: 7.9486e-05 - val_loss: 6.3899e-04\n",
      "Epoch 96/100\n",
      "34/34 [==============================] - 5s 147ms/step - loss: 8.4314e-05 - val_loss: 4.8430e-04\n",
      "Epoch 97/100\n",
      "34/34 [==============================] - 5s 155ms/step - loss: 8.2668e-05 - val_loss: 3.2112e-04\n",
      "Epoch 98/100\n",
      "34/34 [==============================] - 5s 149ms/step - loss: 7.9171e-05 - val_loss: 6.5416e-04\n",
      "Epoch 99/100\n",
      "34/34 [==============================] - 5s 153ms/step - loss: 7.8302e-05 - val_loss: 8.1280e-04\n",
      "Epoch 100/100\n",
      "34/34 [==============================] - 5s 153ms/step - loss: 7.6466e-05 - val_loss: 2.5994e-04\n"
     ]
    },
    {
     "data": {
      "text/plain": [
       "<keras.callbacks.History at 0x2063036e380>"
      ]
     },
     "execution_count": 33,
     "metadata": {},
     "output_type": "execute_result"
    }
   ],
   "source": [
    "model.fit(X_train,y_train,validation_data=(X_test,ytest),epochs=100,batch_size=64,verbose=1)"
   ]
  },
  {
   "cell_type": "code",
   "execution_count": 34,
   "metadata": {},
   "outputs": [],
   "source": [
    "import tensorflow as tf"
   ]
  },
  {
   "cell_type": "code",
   "execution_count": 35,
   "metadata": {},
   "outputs": [
    {
     "data": {
      "text/plain": [
       "'2.12.0'"
      ]
     },
     "execution_count": 35,
     "metadata": {},
     "output_type": "execute_result"
    }
   ],
   "source": [
    "tf.__version__"
   ]
  },
  {
   "cell_type": "markdown",
   "metadata": {},
   "source": [
    "prediction and check performance metrics"
   ]
  },
  {
   "cell_type": "code",
   "execution_count": 44,
   "metadata": {},
   "outputs": [
    {
     "name": "stdout",
     "output_type": "stream",
     "text": [
      "67/67 [==============================] - 2s 26ms/step\n",
      "35/35 [==============================] - 1s 26ms/step\n"
     ]
    }
   ],
   "source": [
    "train_predict=model.predict(X_train)\n",
    "test_predict=model.predict(X_test)"
   ]
  },
  {
   "cell_type": "code",
   "execution_count": 45,
   "metadata": {},
   "outputs": [],
   "source": [
    "##Transformback to original form\n",
    "train_predict=scaler.inverse_transform(train_predict)\n",
    "test_predict=scaler.inverse_transform(test_predict)"
   ]
  },
  {
   "cell_type": "code",
   "execution_count": 48,
   "metadata": {},
   "outputs": [
    {
     "data": {
      "text/plain": [
       "353.9043113554041"
      ]
     },
     "execution_count": 48,
     "metadata": {},
     "output_type": "execute_result"
    }
   ],
   "source": [
    "# RMSE performance metrics\n",
    "import math\n",
    "from sklearn.metrics import mean_squared_error\n",
    "math.sqrt(mean_squared_error(y_train,train_predict))"
   ]
  },
  {
   "cell_type": "code",
   "execution_count": 49,
   "metadata": {},
   "outputs": [
    {
     "data": {
      "text/plain": [
       "665.5233967656071"
      ]
     },
     "execution_count": 49,
     "metadata": {},
     "output_type": "execute_result"
    }
   ],
   "source": [
    "### Test Data RMSE\n",
    "math.sqrt(mean_squared_error(ytest,test_predict))"
   ]
  },
  {
   "cell_type": "code",
   "execution_count": 50,
   "metadata": {},
   "outputs": [
    {
     "data": {
      "image/png": "[encoded data removed]",
      "text/plain": [
       "<Figure size 640x480 with 1 Axes>"
      ]
     },
     "metadata": {},
     "output_type": "display_data"
    }
   ],
   "source": [
    "### Plotting \n",
    "# shift train predictions for plotting\n",
    "look_back=100\n",
    "trainPredictPlot = numpy.empty_like(df1)\n",
    "trainPredictPlot[:, :] = np.nan\n",
    "trainPredictPlot[look_back:len(train_predict)+look_back, :] = train_predict\n",
    "# shift test predictions for plotting\n",
    "testPredictPlot = numpy.empty_like(df1)\n",
    "testPredictPlot[:, :] = numpy.nan\n",
    "testPredictPlot[len(train_predict)+(look_back*2)+1:len(df1)-1, :] = test_predict\n",
    "# plot baseline and predictions\n",
    "plt.plot(scaler.inverse_transform(df1))\n",
    "plt.plot(trainPredictPlot)\n",
    "plt.plot(testPredictPlot)\n",
    "plt.show()"
   ]
  },
  {
   "cell_type": "code",
   "execution_count": 51,
   "metadata": {},
   "outputs": [
    {
     "data": {
      "text/plain": [
       "1208"
      ]
     },
     "execution_count": 51,
     "metadata": {},
     "output_type": "execute_result"
    }
   ],
   "source": [
    "len(test_data)"
   ]
  },
  {
   "cell_type": "code",
   "execution_count": 56,
   "metadata": {},
   "outputs": [
    {
     "data": {
      "text/plain": [
       "(1, 100)"
      ]
     },
     "execution_count": 56,
     "metadata": {},
     "output_type": "execute_result"
    }
   ],
   "source": [
    "x_input=test_data[1108:].reshape(1,-1)\n",
    "x_input.shape"
   ]
  },
  {
   "cell_type": "code",
   "execution_count": 57,
   "metadata": {},
   "outputs": [],
   "source": [
    "temp_input=list(x_input)\n",
    "temp_input=temp_input[0].tolist()"
   ]
  },
  {
   "cell_type": "code",
   "execution_count": 58,
   "metadata": {},
   "outputs": [
    {
     "data": {
      "text/plain": [
       "[0.791912993093574,\n",
       " 0.8149918481962208,\n",
       " 0.8159351256527323,\n",
       " 0.808137365345571,\n",
       " 0.8067538917426875,\n",
       " 0.7950572512819456,\n",
       " 0.7900264381805511,\n",
       " 0.7854358212255286,\n",
       " 0.7731103291271124,\n",
       " 0.772607247816973,\n",
       " 0.7718526258517637,\n",
       " 0.7917872227660392,\n",
       " 0.7988303611079914,\n",
       " 0.7869450651559471,\n",
       " 0.7887687349052026,\n",
       " 0.7937366628428295,\n",
       " 0.7897748975254815,\n",
       " 0.7706578077401827,\n",
       " 0.7736762956010195,\n",
       " 0.7728587884720426,\n",
       " 0.7843038882777149,\n",
       " 0.7832348404936686,\n",
       " 0.7844296586052499,\n",
       " 0.8009055715123166,\n",
       " 0.795874758410922,\n",
       " 0.8092692982933847,\n",
       " 0.8141743410672442,\n",
       " 0.8154320443425929,\n",
       " 0.8459313487697964,\n",
       " 0.8457426932784942,\n",
       " 0.8730348543535589,\n",
       " 0.8528487167842136,\n",
       " 0.8410263059959369,\n",
       " 0.849955999250912,\n",
       " 0.8412778466510067,\n",
       " 0.8397686027205882,\n",
       " 0.8424726647625878,\n",
       " 0.851842554163935,\n",
       " 0.8586970370145846,\n",
       " 0.8603949364363053,\n",
       " 0.85857126668705,\n",
       " 0.8582568408682127,\n",
       " 0.863287653969607,\n",
       " 0.8599547402899332,\n",
       " 0.858445496359515,\n",
       " 0.8884417194765792,\n",
       " 0.8969312165851822,\n",
       " 0.8911457815185786,\n",
       " 0.8954219726547639,\n",
       " 0.884479954159231,\n",
       " 0.8952333171634617,\n",
       " 0.8935983029055083,\n",
       " 0.8808954998244876,\n",
       " 0.8839139876853241,\n",
       " 0.8771852751622091,\n",
       " 0.8555527788262132,\n",
       " 0.8334800863438452,\n",
       " 0.8454911526234243,\n",
       " 0.859766084798631,\n",
       " 0.8450509564770525,\n",
       " 0.8442963345118433,\n",
       " 0.8575651040667709,\n",
       " 0.8658030605203044,\n",
       " 0.8763677680332327,\n",
       " 0.8737265911550005,\n",
       " 0.8736008208274657,\n",
       " 0.8678153857608619,\n",
       " 0.8717771510782102,\n",
       " 0.8713998400956056,\n",
       " 0.8898251930794625,\n",
       " 0.8883788343128116,\n",
       " 0.8870582458736957,\n",
       " 0.904666091728576,\n",
       " 0.9169915838269924,\n",
       " 0.9143504069487602,\n",
       " 0.9244120331515491,\n",
       " 0.9186894832487129,\n",
       " 0.9347880851731749,\n",
       " 0.9473022327628937,\n",
       " 0.9712614801582844,\n",
       " 0.9718274466321914,\n",
       " 0.993711483623257,\n",
       " 0.9915105028913971,\n",
       " 0.9830838909465613,\n",
       " 0.9513897684077766,\n",
       " 0.952333045864288,\n",
       " 0.9537794046309389,\n",
       " 0.9475537734179633,\n",
       " 0.95277324201066,\n",
       " 0.9605710023178213,\n",
       " 0.9441579745745221,\n",
       " 0.9405735202397787,\n",
       " 0.9370519510688025,\n",
       " 0.9167400431719226,\n",
       " 0.9257955067544326,\n",
       " 0.9394415872919648,\n",
       " 0.9522701607005206,\n",
       " 0.9793107811205155,\n",
       " 1.0,\n",
       " 0.9942774500971638]"
      ]
     },
     "execution_count": 58,
     "metadata": {},
     "output_type": "execute_result"
    }
   ],
   "source": [
    "temp_input"
   ]
  },
  {
   "cell_type": "code",
   "execution_count": 59,
   "metadata": {},
   "outputs": [
    {
     "name": "stdout",
     "output_type": "stream",
     "text": [
      "[0.9742102]\n",
      "101\n",
      "1 day input [0.81499185 0.81593513 0.80813737 0.80675389 0.79505725 0.79002644\n",
      " 0.78543582 0.77311033 0.77260725 0.77185263 0.79178722 0.79883036\n",
      " 0.78694507 0.78876873 0.79373666 0.7897749  0.77065781 0.7736763\n",
      " 0.77285879 0.78430389 0.78323484 0.78442966 0.80090557 0.79587476\n",
      " 0.8092693  0.81417434 0.81543204 0.84593135 0.84574269 0.87303485\n",
      " 0.85284872 0.84102631 0.849956   0.84127785 0.8397686  0.84247266\n",
      " 0.85184255 0.85869704 0.86039494 0.85857127 0.85825684 0.86328765\n",
      " 0.85995474 0.8584455  0.88844172 0.89693122 0.89114578 0.89542197\n",
      " 0.88447995 0.89523332 0.8935983  0.8808955  0.88391399 0.87718528\n",
      " 0.85555278 0.83348009 0.84549115 0.85976608 0.84505096 0.84429633\n",
      " 0.8575651  0.86580306 0.87636777 0.87372659 0.87360082 0.86781539\n",
      " 0.87177715 0.87139984 0.88982519 0.88837883 0.88705825 0.90466609\n",
      " 0.91699158 0.91435041 0.92441203 0.91868948 0.93478809 0.94730223\n",
      " 0.97126148 0.97182745 0.99371148 0.9915105  0.98308389 0.95138977\n",
      " 0.95233305 0.9537794  0.94755377 0.95277324 0.960571   0.94415797\n",
      " 0.94057352 0.93705195 0.91674004 0.92579551 0.93944159 0.95227016\n",
      " 0.97931078 1.         0.99427745 0.9742102 ]\n",
      "1 day output [[0.95919526]]\n",
      "2 day input [0.81593513 0.80813737 0.80675389 0.79505725 0.79002644 0.78543582\n",
      " 0.77311033 0.77260725 0.77185263 0.79178722 0.79883036 0.78694507\n",
      " 0.78876873 0.79373666 0.7897749  0.77065781 0.7736763  0.77285879\n",
      " 0.78430389 0.78323484 0.78442966 0.80090557 0.79587476 0.8092693\n",
      " 0.81417434 0.81543204 0.84593135 0.84574269 0.87303485 0.85284872\n",
      " 0.84102631 0.849956   0.84127785 0.8397686  0.84247266 0.85184255\n",
      " 0.85869704 0.86039494 0.85857127 0.85825684 0.86328765 0.85995474\n",
      " 0.8584455  0.88844172 0.89693122 0.89114578 0.89542197 0.88447995\n",
      " 0.89523332 0.8935983  0.8808955  0.88391399 0.87718528 0.85555278\n",
      " 0.83348009 0.84549115 0.85976608 0.84505096 0.84429633 0.8575651\n",
      " 0.86580306 0.87636777 0.87372659 0.87360082 0.86781539 0.87177715\n",
      " 0.87139984 0.88982519 0.88837883 0.88705825 0.90466609 0.91699158\n",
      " 0.91435041 0.92441203 0.91868948 0.93478809 0.94730223 0.97126148\n",
      " 0.97182745 0.99371148 0.9915105  0.98308389 0.95138977 0.95233305\n",
      " 0.9537794  0.94755377 0.95277324 0.960571   0.94415797 0.94057352\n",
      " 0.93705195 0.91674004 0.92579551 0.93944159 0.95227016 0.97931078\n",
      " 1.         0.99427745 0.9742102  0.95919526]\n",
      "2 day output [[0.95292944]]\n",
      "3 day input [0.80813737 0.80675389 0.79505725 0.79002644 0.78543582 0.77311033\n",
      " 0.77260725 0.77185263 0.79178722 0.79883036 0.78694507 0.78876873\n",
      " 0.79373666 0.7897749  0.77065781 0.7736763  0.77285879 0.78430389\n",
      " 0.78323484 0.78442966 0.80090557 0.79587476 0.8092693  0.81417434\n",
      " 0.81543204 0.84593135 0.84574269 0.87303485 0.85284872 0.84102631\n",
      " 0.849956   0.84127785 0.8397686  0.84247266 0.85184255 0.85869704\n",
      " 0.86039494 0.85857127 0.85825684 0.86328765 0.85995474 0.8584455\n",
      " 0.88844172 0.89693122 0.89114578 0.89542197 0.88447995 0.89523332\n",
      " 0.8935983  0.8808955  0.88391399 0.87718528 0.85555278 0.83348009\n",
      " 0.84549115 0.85976608 0.84505096 0.84429633 0.8575651  0.86580306\n",
      " 0.87636777 0.87372659 0.87360082 0.86781539 0.87177715 0.87139984\n",
      " 0.88982519 0.88837883 0.88705825 0.90466609 0.91699158 0.91435041\n",
      " 0.92441203 0.91868948 0.93478809 0.94730223 0.97126148 0.97182745\n",
      " 0.99371148 0.9915105  0.98308389 0.95138977 0.95233305 0.9537794\n",
      " 0.94755377 0.95277324 0.960571   0.94415797 0.94057352 0.93705195\n",
      " 0.91674004 0.92579551 0.93944159 0.95227016 0.97931078 1.\n",
      " 0.99427745 0.9742102  0.95919526 0.95292944]\n",
      "3 day output [[0.949384]]\n",
      "4 day input [0.80675389 0.79505725 0.79002644 0.78543582 0.77311033 0.77260725\n",
      " 0.77185263 0.79178722 0.79883036 0.78694507 0.78876873 0.79373666\n",
      " 0.7897749  0.77065781 0.7736763  0.77285879 0.78430389 0.78323484\n",
      " 0.78442966 0.80090557 0.79587476 0.8092693  0.81417434 0.81543204\n",
      " 0.84593135 0.84574269 0.87303485 0.85284872 0.84102631 0.849956\n",
      " 0.84127785 0.8397686  0.84247266 0.85184255 0.85869704 0.86039494\n",
      " 0.85857127 0.85825684 0.86328765 0.85995474 0.8584455  0.88844172\n",
      " 0.89693122 0.89114578 0.89542197 0.88447995 0.89523332 0.8935983\n",
      " 0.8808955  0.88391399 0.87718528 0.85555278 0.83348009 0.84549115\n",
      " 0.85976608 0.84505096 0.84429633 0.8575651  0.86580306 0.87636777\n",
      " 0.87372659 0.87360082 0.86781539 0.87177715 0.87139984 0.88982519\n",
      " 0.88837883 0.88705825 0.90466609 0.91699158 0.91435041 0.92441203\n",
      " 0.91868948 0.93478809 0.94730223 0.97126148 0.97182745 0.99371148\n",
      " 0.9915105  0.98308389 0.95138977 0.95233305 0.9537794  0.94755377\n",
      " 0.95277324 0.960571   0.94415797 0.94057352 0.93705195 0.91674004\n",
      " 0.92579551 0.93944159 0.95227016 0.97931078 1.         0.99427745\n",
      " 0.9742102  0.95919526 0.95292944 0.94938397]\n",
      "4 day output [[0.94430083]]\n",
      "5 day input [0.79505725 0.79002644 0.78543582 0.77311033 0.77260725 0.77185263\n",
      " 0.79178722 0.79883036 0.78694507 0.78876873 0.79373666 0.7897749\n",
      " 0.77065781 0.7736763  0.77285879 0.78430389 0.78323484 0.78442966\n",
      " 0.80090557 0.79587476 0.8092693  0.81417434 0.81543204 0.84593135\n",
      " 0.84574269 0.87303485 0.85284872 0.84102631 0.849956   0.84127785\n",
      " 0.8397686  0.84247266 0.85184255 0.85869704 0.86039494 0.85857127\n",
      " 0.85825684 0.86328765 0.85995474 0.8584455  0.88844172 0.89693122\n",
      " 0.89114578 0.89542197 0.88447995 0.89523332 0.8935983  0.8808955\n",
      " 0.88391399 0.87718528 0.85555278 0.83348009 0.84549115 0.85976608\n",
      " 0.84505096 0.84429633 0.8575651  0.86580306 0.87636777 0.87372659\n",
      " 0.87360082 0.86781539 0.87177715 0.87139984 0.88982519 0.88837883\n",
      " 0.88705825 0.90466609 0.91699158 0.91435041 0.92441203 0.91868948\n",
      " 0.93478809 0.94730223 0.97126148 0.97182745 0.99371148 0.9915105\n",
      " 0.98308389 0.95138977 0.95233305 0.9537794  0.94755377 0.95277324\n",
      " 0.960571   0.94415797 0.94057352 0.93705195 0.91674004 0.92579551\n",
      " 0.93944159 0.95227016 0.97931078 1.         0.99427745 0.9742102\n",
      " 0.95919526 0.95292944 0.94938397 0.94430083]\n",
      "5 day output [[0.9377098]]\n",
      "6 day input [0.79002644 0.78543582 0.77311033 0.77260725 0.77185263 0.79178722\n",
      " 0.79883036 0.78694507 0.78876873 0.79373666 0.7897749  0.77065781\n",
      " 0.7736763  0.77285879 0.78430389 0.78323484 0.78442966 0.80090557\n",
      " 0.79587476 0.8092693  0.81417434 0.81543204 0.84593135 0.84574269\n",
      " 0.87303485 0.85284872 0.84102631 0.849956   0.84127785 0.8397686\n",
      " 0.84247266 0.85184255 0.85869704 0.86039494 0.85857127 0.85825684\n",
      " 0.86328765 0.85995474 0.8584455  0.88844172 0.89693122 0.89114578\n",
      " 0.89542197 0.88447995 0.89523332 0.8935983  0.8808955  0.88391399\n",
      " 0.87718528 0.85555278 0.83348009 0.84549115 0.85976608 0.84505096\n",
      " 0.84429633 0.8575651  0.86580306 0.87636777 0.87372659 0.87360082\n",
      " 0.86781539 0.87177715 0.87139984 0.88982519 0.88837883 0.88705825\n",
      " 0.90466609 0.91699158 0.91435041 0.92441203 0.91868948 0.93478809\n",
      " 0.94730223 0.97126148 0.97182745 0.99371148 0.9915105  0.98308389\n",
      " 0.95138977 0.95233305 0.9537794  0.94755377 0.95277324 0.960571\n",
      " 0.94415797 0.94057352 0.93705195 0.91674004 0.92579551 0.93944159\n",
      " 0.95227016 0.97931078 1.         0.99427745 0.9742102  0.95919526\n",
      " 0.95292944 0.94938397 0.94430083 0.93770981]\n",
      "6 day output [[0.9309875]]\n",
      "7 day input [0.78543582 0.77311033 0.77260725 0.77185263 0.79178722 0.79883036\n",
      " 0.78694507 0.78876873 0.79373666 0.7897749  0.77065781 0.7736763\n",
      " 0.77285879 0.78430389 0.78323484 0.78442966 0.80090557 0.79587476\n",
      " 0.8092693  0.81417434 0.81543204 0.84593135 0.84574269 0.87303485\n",
      " 0.85284872 0.84102631 0.849956   0.84127785 0.8397686  0.84247266\n",
      " 0.85184255 0.85869704 0.86039494 0.85857127 0.85825684 0.86328765\n",
      " 0.85995474 0.8584455  0.88844172 0.89693122 0.89114578 0.89542197\n",
      " 0.88447995 0.89523332 0.8935983  0.8808955  0.88391399 0.87718528\n",
      " 0.85555278 0.83348009 0.84549115 0.85976608 0.84505096 0.84429633\n",
      " 0.8575651  0.86580306 0.87636777 0.87372659 0.87360082 0.86781539\n",
      " 0.87177715 0.87139984 0.88982519 0.88837883 0.88705825 0.90466609\n",
      " 0.91699158 0.91435041 0.92441203 0.91868948 0.93478809 0.94730223\n",
      " 0.97126148 0.97182745 0.99371148 0.9915105  0.98308389 0.95138977\n",
      " 0.95233305 0.9537794  0.94755377 0.95277324 0.960571   0.94415797\n",
      " 0.94057352 0.93705195 0.91674004 0.92579551 0.93944159 0.95227016\n",
      " 0.97931078 1.         0.99427745 0.9742102  0.95919526 0.95292944\n",
      " 0.94938397 0.94430083 0.93770981 0.93098748]\n",
      "7 day output [[0.9248276]]\n",
      "8 day input [0.77311033 0.77260725 0.77185263 0.79178722 0.79883036 0.78694507\n",
      " 0.78876873 0.79373666 0.7897749  0.77065781 0.7736763  0.77285879\n",
      " 0.78430389 0.78323484 0.78442966 0.80090557 0.79587476 0.8092693\n",
      " 0.81417434 0.81543204 0.84593135 0.84574269 0.87303485 0.85284872\n",
      " 0.84102631 0.849956   0.84127785 0.8397686  0.84247266 0.85184255\n",
      " 0.85869704 0.86039494 0.85857127 0.85825684 0.86328765 0.85995474\n",
      " 0.8584455  0.88844172 0.89693122 0.89114578 0.89542197 0.88447995\n",
      " 0.89523332 0.8935983  0.8808955  0.88391399 0.87718528 0.85555278\n",
      " 0.83348009 0.84549115 0.85976608 0.84505096 0.84429633 0.8575651\n",
      " 0.86580306 0.87636777 0.87372659 0.87360082 0.86781539 0.87177715\n",
      " 0.87139984 0.88982519 0.88837883 0.88705825 0.90466609 0.91699158\n",
      " 0.91435041 0.92441203 0.91868948 0.93478809 0.94730223 0.97126148\n",
      " 0.97182745 0.99371148 0.9915105  0.98308389 0.95138977 0.95233305\n",
      " 0.9537794  0.94755377 0.95277324 0.960571   0.94415797 0.94057352\n",
      " 0.93705195 0.91674004 0.92579551 0.93944159 0.95227016 0.97931078\n",
      " 1.         0.99427745 0.9742102  0.95919526 0.95292944 0.94938397\n",
      " 0.94430083 0.93770981 0.93098748 0.92482758]\n",
      "8 day output [[0.9191865]]\n",
      "9 day input [0.77260725 0.77185263 0.79178722 0.79883036 0.78694507 0.78876873\n",
      " 0.79373666 0.7897749  0.77065781 0.7736763  0.77285879 0.78430389\n",
      " 0.78323484 0.78442966 0.80090557 0.79587476 0.8092693  0.81417434\n",
      " 0.81543204 0.84593135 0.84574269 0.87303485 0.85284872 0.84102631\n",
      " 0.849956   0.84127785 0.8397686  0.84247266 0.85184255 0.85869704\n",
      " 0.86039494 0.85857127 0.85825684 0.86328765 0.85995474 0.8584455\n",
      " 0.88844172 0.89693122 0.89114578 0.89542197 0.88447995 0.89523332\n",
      " 0.8935983  0.8808955  0.88391399 0.87718528 0.85555278 0.83348009\n",
      " 0.84549115 0.85976608 0.84505096 0.84429633 0.8575651  0.86580306\n",
      " 0.87636777 0.87372659 0.87360082 0.86781539 0.87177715 0.87139984\n",
      " 0.88982519 0.88837883 0.88705825 0.90466609 0.91699158 0.91435041\n",
      " 0.92441203 0.91868948 0.93478809 0.94730223 0.97126148 0.97182745\n",
      " 0.99371148 0.9915105  0.98308389 0.95138977 0.95233305 0.9537794\n",
      " 0.94755377 0.95277324 0.960571   0.94415797 0.94057352 0.93705195\n",
      " 0.91674004 0.92579551 0.93944159 0.95227016 0.97931078 1.\n",
      " 0.99427745 0.9742102  0.95919526 0.95292944 0.94938397 0.94430083\n",
      " 0.93770981 0.93098748 0.92482758 0.91918647]\n",
      "9 day output [[0.91386825]]\n",
      "10 day input [0.77185263 0.79178722 0.79883036 0.78694507 0.78876873 0.79373666\n",
      " 0.7897749  0.77065781 0.7736763  0.77285879 0.78430389 0.78323484\n",
      " 0.78442966 0.80090557 0.79587476 0.8092693  0.81417434 0.81543204\n",
      " 0.84593135 0.84574269 0.87303485 0.85284872 0.84102631 0.849956\n",
      " 0.84127785 0.8397686  0.84247266 0.85184255 0.85869704 0.86039494\n",
      " 0.85857127 0.85825684 0.86328765 0.85995474 0.8584455  0.88844172\n",
      " 0.89693122 0.89114578 0.89542197 0.88447995 0.89523332 0.8935983\n",
      " 0.8808955  0.88391399 0.87718528 0.85555278 0.83348009 0.84549115\n",
      " 0.85976608 0.84505096 0.84429633 0.8575651  0.86580306 0.87636777\n",
      " 0.87372659 0.87360082 0.86781539 0.87177715 0.87139984 0.88982519\n",
      " 0.88837883 0.88705825 0.90466609 0.91699158 0.91435041 0.92441203\n",
      " 0.91868948 0.93478809 0.94730223 0.97126148 0.97182745 0.99371148\n",
      " 0.9915105  0.98308389 0.95138977 0.95233305 0.9537794  0.94755377\n",
      " 0.95277324 0.960571   0.94415797 0.94057352 0.93705195 0.91674004\n",
      " 0.92579551 0.93944159 0.95227016 0.97931078 1.         0.99427745\n",
      " 0.9742102  0.95919526 0.95292944 0.94938397 0.94430083 0.93770981\n",
      " 0.93098748 0.92482758 0.91918647 0.91386825]\n",
      "10 day output [[0.9088118]]\n",
      "11 day input [0.79178722 0.79883036 0.78694507 0.78876873 0.79373666 0.7897749\n",
      " 0.77065781 0.7736763  0.77285879 0.78430389 0.78323484 0.78442966\n",
      " 0.80090557 0.79587476 0.8092693  0.81417434 0.81543204 0.84593135\n",
      " 0.84574269 0.87303485 0.85284872 0.84102631 0.849956   0.84127785\n",
      " 0.8397686  0.84247266 0.85184255 0.85869704 0.86039494 0.85857127\n",
      " 0.85825684 0.86328765 0.85995474 0.8584455  0.88844172 0.89693122\n",
      " 0.89114578 0.89542197 0.88447995 0.89523332 0.8935983  0.8808955\n",
      " 0.88391399 0.87718528 0.85555278 0.83348009 0.84549115 0.85976608\n",
      " 0.84505096 0.84429633 0.8575651  0.86580306 0.87636777 0.87372659\n",
      " 0.87360082 0.86781539 0.87177715 0.87139984 0.88982519 0.88837883\n",
      " 0.88705825 0.90466609 0.91699158 0.91435041 0.92441203 0.91868948\n",
      " 0.93478809 0.94730223 0.97126148 0.97182745 0.99371148 0.9915105\n",
      " 0.98308389 0.95138977 0.95233305 0.9537794  0.94755377 0.95277324\n",
      " 0.960571   0.94415797 0.94057352 0.93705195 0.91674004 0.92579551\n",
      " 0.93944159 0.95227016 0.97931078 1.         0.99427745 0.9742102\n",
      " 0.95919526 0.95292944 0.94938397 0.94430083 0.93770981 0.93098748\n",
      " 0.92482758 0.91918647 0.91386825 0.90881181]\n",
      "11 day output [[0.9040506]]\n",
      "12 day input [0.79883036 0.78694507 0.78876873 0.79373666 0.7897749  0.77065781\n",
      " 0.7736763  0.77285879 0.78430389 0.78323484 0.78442966 0.80090557\n",
      " 0.79587476 0.8092693  0.81417434 0.81543204 0.84593135 0.84574269\n",
      " 0.87303485 0.85284872 0.84102631 0.849956   0.84127785 0.8397686\n",
      " 0.84247266 0.85184255 0.85869704 0.86039494 0.85857127 0.85825684\n",
      " 0.86328765 0.85995474 0.8584455  0.88844172 0.89693122 0.89114578\n",
      " 0.89542197 0.88447995 0.89523332 0.8935983  0.8808955  0.88391399\n",
      " 0.87718528 0.85555278 0.83348009 0.84549115 0.85976608 0.84505096\n",
      " 0.84429633 0.8575651  0.86580306 0.87636777 0.87372659 0.87360082\n",
      " 0.86781539 0.87177715 0.87139984 0.88982519 0.88837883 0.88705825\n",
      " 0.90466609 0.91699158 0.91435041 0.92441203 0.91868948 0.93478809\n",
      " 0.94730223 0.97126148 0.97182745 0.99371148 0.9915105  0.98308389\n",
      " 0.95138977 0.95233305 0.9537794  0.94755377 0.95277324 0.960571\n",
      " 0.94415797 0.94057352 0.93705195 0.91674004 0.92579551 0.93944159\n",
      " 0.95227016 0.97931078 1.         0.99427745 0.9742102  0.95919526\n",
      " 0.95292944 0.94938397 0.94430083 0.93770981 0.93098748 0.92482758\n",
      " 0.91918647 0.91386825 0.90881181 0.90405059]\n",
      "12 day output [[0.8996144]]\n",
      "13 day input [0.78694507 0.78876873 0.79373666 0.7897749  0.77065781 0.7736763\n",
      " 0.77285879 0.78430389 0.78323484 0.78442966 0.80090557 0.79587476\n",
      " 0.8092693  0.81417434 0.81543204 0.84593135 0.84574269 0.87303485\n",
      " 0.85284872 0.84102631 0.849956   0.84127785 0.8397686  0.84247266\n",
      " 0.85184255 0.85869704 0.86039494 0.85857127 0.85825684 0.86328765\n",
      " 0.85995474 0.8584455  0.88844172 0.89693122 0.89114578 0.89542197\n",
      " 0.88447995 0.89523332 0.8935983  0.8808955  0.88391399 0.87718528\n",
      " 0.85555278 0.83348009 0.84549115 0.85976608 0.84505096 0.84429633\n",
      " 0.8575651  0.86580306 0.87636777 0.87372659 0.87360082 0.86781539\n",
      " 0.87177715 0.87139984 0.88982519 0.88837883 0.88705825 0.90466609\n",
      " 0.91699158 0.91435041 0.92441203 0.91868948 0.93478809 0.94730223\n",
      " 0.97126148 0.97182745 0.99371148 0.9915105  0.98308389 0.95138977\n",
      " 0.95233305 0.9537794  0.94755377 0.95277324 0.960571   0.94415797\n",
      " 0.94057352 0.93705195 0.91674004 0.92579551 0.93944159 0.95227016\n",
      " 0.97931078 1.         0.99427745 0.9742102  0.95919526 0.95292944\n",
      " 0.94938397 0.94430083 0.93770981 0.93098748 0.92482758 0.91918647\n",
      " 0.91386825 0.90881181 0.90405059 0.89961439]\n",
      "13 day output [[0.89549565]]\n",
      "14 day input [0.78876873 0.79373666 0.7897749  0.77065781 0.7736763  0.77285879\n",
      " 0.78430389 0.78323484 0.78442966 0.80090557 0.79587476 0.8092693\n",
      " 0.81417434 0.81543204 0.84593135 0.84574269 0.87303485 0.85284872\n",
      " 0.84102631 0.849956   0.84127785 0.8397686  0.84247266 0.85184255\n",
      " 0.85869704 0.86039494 0.85857127 0.85825684 0.86328765 0.85995474\n",
      " 0.8584455  0.88844172 0.89693122 0.89114578 0.89542197 0.88447995\n",
      " 0.89523332 0.8935983  0.8808955  0.88391399 0.87718528 0.85555278\n",
      " 0.83348009 0.84549115 0.85976608 0.84505096 0.84429633 0.8575651\n",
      " 0.86580306 0.87636777 0.87372659 0.87360082 0.86781539 0.87177715\n",
      " 0.87139984 0.88982519 0.88837883 0.88705825 0.90466609 0.91699158\n",
      " 0.91435041 0.92441203 0.91868948 0.93478809 0.94730223 0.97126148\n",
      " 0.97182745 0.99371148 0.9915105  0.98308389 0.95138977 0.95233305\n",
      " 0.9537794  0.94755377 0.95277324 0.960571   0.94415797 0.94057352\n",
      " 0.93705195 0.91674004 0.92579551 0.93944159 0.95227016 0.97931078\n",
      " 1.         0.99427745 0.9742102  0.95919526 0.95292944 0.94938397\n",
      " 0.94430083 0.93770981 0.93098748 0.92482758 0.91918647 0.91386825\n",
      " 0.90881181 0.90405059 0.89961439 0.89549565]\n",
      "14 day output [[0.89166737]]\n",
      "15 day input [0.79373666 0.7897749  0.77065781 0.7736763  0.77285879 0.78430389\n",
      " 0.78323484 0.78442966 0.80090557 0.79587476 0.8092693  0.81417434\n",
      " 0.81543204 0.84593135 0.84574269 0.87303485 0.85284872 0.84102631\n",
      " 0.849956   0.84127785 0.8397686  0.84247266 0.85184255 0.85869704\n",
      " 0.86039494 0.85857127 0.85825684 0.86328765 0.85995474 0.8584455\n",
      " 0.88844172 0.89693122 0.89114578 0.89542197 0.88447995 0.89523332\n",
      " 0.8935983  0.8808955  0.88391399 0.87718528 0.85555278 0.83348009\n",
      " 0.84549115 0.85976608 0.84505096 0.84429633 0.8575651  0.86580306\n",
      " 0.87636777 0.87372659 0.87360082 0.86781539 0.87177715 0.87139984\n",
      " 0.88982519 0.88837883 0.88705825 0.90466609 0.91699158 0.91435041\n",
      " 0.92441203 0.91868948 0.93478809 0.94730223 0.97126148 0.97182745\n",
      " 0.99371148 0.9915105  0.98308389 0.95138977 0.95233305 0.9537794\n",
      " 0.94755377 0.95277324 0.960571   0.94415797 0.94057352 0.93705195\n",
      " 0.91674004 0.92579551 0.93944159 0.95227016 0.97931078 1.\n",
      " 0.99427745 0.9742102  0.95919526 0.95292944 0.94938397 0.94430083\n",
      " 0.93770981 0.93098748 0.92482758 0.91918647 0.91386825 0.90881181\n",
      " 0.90405059 0.89961439 0.89549565 0.89166737]\n",
      "15 day output [[0.8881018]]\n",
      "16 day input [0.7897749  0.77065781 0.7736763  0.77285879 0.78430389 0.78323484\n",
      " 0.78442966 0.80090557 0.79587476 0.8092693  0.81417434 0.81543204\n",
      " 0.84593135 0.84574269 0.87303485 0.85284872 0.84102631 0.849956\n",
      " 0.84127785 0.8397686  0.84247266 0.85184255 0.85869704 0.86039494\n",
      " 0.85857127 0.85825684 0.86328765 0.85995474 0.8584455  0.88844172\n",
      " 0.89693122 0.89114578 0.89542197 0.88447995 0.89523332 0.8935983\n",
      " 0.8808955  0.88391399 0.87718528 0.85555278 0.83348009 0.84549115\n",
      " 0.85976608 0.84505096 0.84429633 0.8575651  0.86580306 0.87636777\n",
      " 0.87372659 0.87360082 0.86781539 0.87177715 0.87139984 0.88982519\n",
      " 0.88837883 0.88705825 0.90466609 0.91699158 0.91435041 0.92441203\n",
      " 0.91868948 0.93478809 0.94730223 0.97126148 0.97182745 0.99371148\n",
      " 0.9915105  0.98308389 0.95138977 0.95233305 0.9537794  0.94755377\n",
      " 0.95277324 0.960571   0.94415797 0.94057352 0.93705195 0.91674004\n",
      " 0.92579551 0.93944159 0.95227016 0.97931078 1.         0.99427745\n",
      " 0.9742102  0.95919526 0.95292944 0.94938397 0.94430083 0.93770981\n",
      " 0.93098748 0.92482758 0.91918647 0.91386825 0.90881181 0.90405059\n",
      " 0.89961439 0.89549565 0.89166737 0.88810182]\n",
      "16 day output [[0.8847763]]\n",
      "17 day input [0.77065781 0.7736763  0.77285879 0.78430389 0.78323484 0.78442966\n",
      " 0.80090557 0.79587476 0.8092693  0.81417434 0.81543204 0.84593135\n",
      " 0.84574269 0.87303485 0.85284872 0.84102631 0.849956   0.84127785\n",
      " 0.8397686  0.84247266 0.85184255 0.85869704 0.86039494 0.85857127\n",
      " 0.85825684 0.86328765 0.85995474 0.8584455  0.88844172 0.89693122\n",
      " 0.89114578 0.89542197 0.88447995 0.89523332 0.8935983  0.8808955\n",
      " 0.88391399 0.87718528 0.85555278 0.83348009 0.84549115 0.85976608\n",
      " 0.84505096 0.84429633 0.8575651  0.86580306 0.87636777 0.87372659\n",
      " 0.87360082 0.86781539 0.87177715 0.87139984 0.88982519 0.88837883\n",
      " 0.88705825 0.90466609 0.91699158 0.91435041 0.92441203 0.91868948\n",
      " 0.93478809 0.94730223 0.97126148 0.97182745 0.99371148 0.9915105\n",
      " 0.98308389 0.95138977 0.95233305 0.9537794  0.94755377 0.95277324\n",
      " 0.960571   0.94415797 0.94057352 0.93705195 0.91674004 0.92579551\n",
      " 0.93944159 0.95227016 0.97931078 1.         0.99427745 0.9742102\n",
      " 0.95919526 0.95292944 0.94938397 0.94430083 0.93770981 0.93098748\n",
      " 0.92482758 0.91918647 0.91386825 0.90881181 0.90405059 0.89961439\n",
      " 0.89549565 0.89166737 0.88810182 0.88477629]\n",
      "17 day output [[0.88166934]]\n",
      "18 day input [0.7736763  0.77285879 0.78430389 0.78323484 0.78442966 0.80090557\n",
      " 0.79587476 0.8092693  0.81417434 0.81543204 0.84593135 0.84574269\n",
      " 0.87303485 0.85284872 0.84102631 0.849956   0.84127785 0.8397686\n",
      " 0.84247266 0.85184255 0.85869704 0.86039494 0.85857127 0.85825684\n",
      " 0.86328765 0.85995474 0.8584455  0.88844172 0.89693122 0.89114578\n",
      " 0.89542197 0.88447995 0.89523332 0.8935983  0.8808955  0.88391399\n",
      " 0.87718528 0.85555278 0.83348009 0.84549115 0.85976608 0.84505096\n",
      " 0.84429633 0.8575651  0.86580306 0.87636777 0.87372659 0.87360082\n",
      " 0.86781539 0.87177715 0.87139984 0.88982519 0.88837883 0.88705825\n",
      " 0.90466609 0.91699158 0.91435041 0.92441203 0.91868948 0.93478809\n",
      " 0.94730223 0.97126148 0.97182745 0.99371148 0.9915105  0.98308389\n",
      " 0.95138977 0.95233305 0.9537794  0.94755377 0.95277324 0.960571\n",
      " 0.94415797 0.94057352 0.93705195 0.91674004 0.92579551 0.93944159\n",
      " 0.95227016 0.97931078 1.         0.99427745 0.9742102  0.95919526\n",
      " 0.95292944 0.94938397 0.94430083 0.93770981 0.93098748 0.92482758\n",
      " 0.91918647 0.91386825 0.90881181 0.90405059 0.89961439 0.89549565\n",
      " 0.89166737 0.88810182 0.88477629 0.88166934]\n",
      "18 day output [[0.87876034]]\n",
      "19 day input [0.77285879 0.78430389 0.78323484 0.78442966 0.80090557 0.79587476\n",
      " 0.8092693  0.81417434 0.81543204 0.84593135 0.84574269 0.87303485\n",
      " 0.85284872 0.84102631 0.849956   0.84127785 0.8397686  0.84247266\n",
      " 0.85184255 0.85869704 0.86039494 0.85857127 0.85825684 0.86328765\n",
      " 0.85995474 0.8584455  0.88844172 0.89693122 0.89114578 0.89542197\n",
      " 0.88447995 0.89523332 0.8935983  0.8808955  0.88391399 0.87718528\n",
      " 0.85555278 0.83348009 0.84549115 0.85976608 0.84505096 0.84429633\n",
      " 0.8575651  0.86580306 0.87636777 0.87372659 0.87360082 0.86781539\n",
      " 0.87177715 0.87139984 0.88982519 0.88837883 0.88705825 0.90466609\n",
      " 0.91699158 0.91435041 0.92441203 0.91868948 0.93478809 0.94730223\n",
      " 0.97126148 0.97182745 0.99371148 0.9915105  0.98308389 0.95138977\n",
      " 0.95233305 0.9537794  0.94755377 0.95277324 0.960571   0.94415797\n",
      " 0.94057352 0.93705195 0.91674004 0.92579551 0.93944159 0.95227016\n",
      " 0.97931078 1.         0.99427745 0.9742102  0.95919526 0.95292944\n",
      " 0.94938397 0.94430083 0.93770981 0.93098748 0.92482758 0.91918647\n",
      " 0.91386825 0.90881181 0.90405059 0.89961439 0.89549565 0.89166737\n",
      " 0.88810182 0.88477629 0.88166934 0.87876034]\n",
      "19 day output [[0.8760296]]\n",
      "20 day input [0.78430389 0.78323484 0.78442966 0.80090557 0.79587476 0.8092693\n",
      " 0.81417434 0.81543204 0.84593135 0.84574269 0.87303485 0.85284872\n",
      " 0.84102631 0.849956   0.84127785 0.8397686  0.84247266 0.85184255\n",
      " 0.85869704 0.86039494 0.85857127 0.85825684 0.86328765 0.85995474\n",
      " 0.8584455  0.88844172 0.89693122 0.89114578 0.89542197 0.88447995\n",
      " 0.89523332 0.8935983  0.8808955  0.88391399 0.87718528 0.85555278\n",
      " 0.83348009 0.84549115 0.85976608 0.84505096 0.84429633 0.8575651\n",
      " 0.86580306 0.87636777 0.87372659 0.87360082 0.86781539 0.87177715\n",
      " 0.87139984 0.88982519 0.88837883 0.88705825 0.90466609 0.91699158\n",
      " 0.91435041 0.92441203 0.91868948 0.93478809 0.94730223 0.97126148\n",
      " 0.97182745 0.99371148 0.9915105  0.98308389 0.95138977 0.95233305\n",
      " 0.9537794  0.94755377 0.95277324 0.960571   0.94415797 0.94057352\n",
      " 0.93705195 0.91674004 0.92579551 0.93944159 0.95227016 0.97931078\n",
      " 1.         0.99427745 0.9742102  0.95919526 0.95292944 0.94938397\n",
      " 0.94430083 0.93770981 0.93098748 0.92482758 0.91918647 0.91386825\n",
      " 0.90881181 0.90405059 0.89961439 0.89549565 0.89166737 0.88810182\n",
      " 0.88477629 0.88166934 0.87876034 0.87602961]\n",
      "20 day output [[0.8734583]]\n",
      "21 day input [0.78323484 0.78442966 0.80090557 0.79587476 0.8092693  0.81417434\n",
      " 0.81543204 0.84593135 0.84574269 0.87303485 0.85284872 0.84102631\n",
      " 0.849956   0.84127785 0.8397686  0.84247266 0.85184255 0.85869704\n",
      " 0.86039494 0.85857127 0.85825684 0.86328765 0.85995474 0.8584455\n",
      " 0.88844172 0.89693122 0.89114578 0.89542197 0.88447995 0.89523332\n",
      " 0.8935983  0.8808955  0.88391399 0.87718528 0.85555278 0.83348009\n",
      " 0.84549115 0.85976608 0.84505096 0.84429633 0.8575651  0.86580306\n",
      " 0.87636777 0.87372659 0.87360082 0.86781539 0.87177715 0.87139984\n",
      " 0.88982519 0.88837883 0.88705825 0.90466609 0.91699158 0.91435041\n",
      " 0.92441203 0.91868948 0.93478809 0.94730223 0.97126148 0.97182745\n",
      " 0.99371148 0.9915105  0.98308389 0.95138977 0.95233305 0.9537794\n",
      " 0.94755377 0.95277324 0.960571   0.94415797 0.94057352 0.93705195\n",
      " 0.91674004 0.92579551 0.93944159 0.95227016 0.97931078 1.\n",
      " 0.99427745 0.9742102  0.95919526 0.95292944 0.94938397 0.94430083\n",
      " 0.93770981 0.93098748 0.92482758 0.91918647 0.91386825 0.90881181\n",
      " 0.90405059 0.89961439 0.89549565 0.89166737 0.88810182 0.88477629\n",
      " 0.88166934 0.87876034 0.87602961 0.87345833]\n",
      "21 day output [[0.8710288]]\n",
      "22 day input [0.78442966 0.80090557 0.79587476 0.8092693  0.81417434 0.81543204\n",
      " 0.84593135 0.84574269 0.87303485 0.85284872 0.84102631 0.849956\n",
      " 0.84127785 0.8397686  0.84247266 0.85184255 0.85869704 0.86039494\n",
      " 0.85857127 0.85825684 0.86328765 0.85995474 0.8584455  0.88844172\n",
      " 0.89693122 0.89114578 0.89542197 0.88447995 0.89523332 0.8935983\n",
      " 0.8808955  0.88391399 0.87718528 0.85555278 0.83348009 0.84549115\n",
      " 0.85976608 0.84505096 0.84429633 0.8575651  0.86580306 0.87636777\n",
      " 0.87372659 0.87360082 0.86781539 0.87177715 0.87139984 0.88982519\n",
      " 0.88837883 0.88705825 0.90466609 0.91699158 0.91435041 0.92441203\n",
      " 0.91868948 0.93478809 0.94730223 0.97126148 0.97182745 0.99371148\n",
      " 0.9915105  0.98308389 0.95138977 0.95233305 0.9537794  0.94755377\n",
      " 0.95277324 0.960571   0.94415797 0.94057352 0.93705195 0.91674004\n",
      " 0.92579551 0.93944159 0.95227016 0.97931078 1.         0.99427745\n",
      " 0.9742102  0.95919526 0.95292944 0.94938397 0.94430083 0.93770981\n",
      " 0.93098748 0.92482758 0.91918647 0.91386825 0.90881181 0.90405059\n",
      " 0.89961439 0.89549565 0.89166737 0.88810182 0.88477629 0.88166934\n",
      " 0.87876034 0.87602961 0.87345833 0.87102878]\n",
      "22 day output [[0.868727]]\n",
      "23 day input [0.80090557 0.79587476 0.8092693  0.81417434 0.81543204 0.84593135\n",
      " 0.84574269 0.87303485 0.85284872 0.84102631 0.849956   0.84127785\n",
      " 0.8397686  0.84247266 0.85184255 0.85869704 0.86039494 0.85857127\n",
      " 0.85825684 0.86328765 0.85995474 0.8584455  0.88844172 0.89693122\n",
      " 0.89114578 0.89542197 0.88447995 0.89523332 0.8935983  0.8808955\n",
      " 0.88391399 0.87718528 0.85555278 0.83348009 0.84549115 0.85976608\n",
      " 0.84505096 0.84429633 0.8575651  0.86580306 0.87636777 0.87372659\n",
      " 0.87360082 0.86781539 0.87177715 0.87139984 0.88982519 0.88837883\n",
      " 0.88705825 0.90466609 0.91699158 0.91435041 0.92441203 0.91868948\n",
      " 0.93478809 0.94730223 0.97126148 0.97182745 0.99371148 0.9915105\n",
      " 0.98308389 0.95138977 0.95233305 0.9537794  0.94755377 0.95277324\n",
      " 0.960571   0.94415797 0.94057352 0.93705195 0.91674004 0.92579551\n",
      " 0.93944159 0.95227016 0.97931078 1.         0.99427745 0.9742102\n",
      " 0.95919526 0.95292944 0.94938397 0.94430083 0.93770981 0.93098748\n",
      " 0.92482758 0.91918647 0.91386825 0.90881181 0.90405059 0.89961439\n",
      " 0.89549565 0.89166737 0.88810182 0.88477629 0.88166934 0.87876034\n",
      " 0.87602961 0.87345833 0.87102878 0.86872703]\n",
      "23 day output [[0.8665421]]\n",
      "24 day input [0.79587476 0.8092693  0.81417434 0.81543204 0.84593135 0.84574269\n",
      " 0.87303485 0.85284872 0.84102631 0.849956   0.84127785 0.8397686\n",
      " 0.84247266 0.85184255 0.85869704 0.86039494 0.85857127 0.85825684\n",
      " 0.86328765 0.85995474 0.8584455  0.88844172 0.89693122 0.89114578\n",
      " 0.89542197 0.88447995 0.89523332 0.8935983  0.8808955  0.88391399\n",
      " 0.87718528 0.85555278 0.83348009 0.84549115 0.85976608 0.84505096\n",
      " 0.84429633 0.8575651  0.86580306 0.87636777 0.87372659 0.87360082\n",
      " 0.86781539 0.87177715 0.87139984 0.88982519 0.88837883 0.88705825\n",
      " 0.90466609 0.91699158 0.91435041 0.92441203 0.91868948 0.93478809\n",
      " 0.94730223 0.97126148 0.97182745 0.99371148 0.9915105  0.98308389\n",
      " 0.95138977 0.95233305 0.9537794  0.94755377 0.95277324 0.960571\n",
      " 0.94415797 0.94057352 0.93705195 0.91674004 0.92579551 0.93944159\n",
      " 0.95227016 0.97931078 1.         0.99427745 0.9742102  0.95919526\n",
      " 0.95292944 0.94938397 0.94430083 0.93770981 0.93098748 0.92482758\n",
      " 0.91918647 0.91386825 0.90881181 0.90405059 0.89961439 0.89549565\n",
      " 0.89166737 0.88810182 0.88477629 0.88166934 0.87876034 0.87602961\n",
      " 0.87345833 0.87102878 0.86872703 0.8665421 ]\n",
      "24 day output [[0.8644634]]\n",
      "25 day input [0.8092693  0.81417434 0.81543204 0.84593135 0.84574269 0.87303485\n",
      " 0.85284872 0.84102631 0.849956   0.84127785 0.8397686  0.84247266\n",
      " 0.85184255 0.85869704 0.86039494 0.85857127 0.85825684 0.86328765\n",
      " 0.85995474 0.8584455  0.88844172 0.89693122 0.89114578 0.89542197\n",
      " 0.88447995 0.89523332 0.8935983  0.8808955  0.88391399 0.87718528\n",
      " 0.85555278 0.83348009 0.84549115 0.85976608 0.84505096 0.84429633\n",
      " 0.8575651  0.86580306 0.87636777 0.87372659 0.87360082 0.86781539\n",
      " 0.87177715 0.87139984 0.88982519 0.88837883 0.88705825 0.90466609\n",
      " 0.91699158 0.91435041 0.92441203 0.91868948 0.93478809 0.94730223\n",
      " 0.97126148 0.97182745 0.99371148 0.9915105  0.98308389 0.95138977\n",
      " 0.95233305 0.9537794  0.94755377 0.95277324 0.960571   0.94415797\n",
      " 0.94057352 0.93705195 0.91674004 0.92579551 0.93944159 0.95227016\n",
      " 0.97931078 1.         0.99427745 0.9742102  0.95919526 0.95292944\n",
      " 0.94938397 0.94430083 0.93770981 0.93098748 0.92482758 0.91918647\n",
      " 0.91386825 0.90881181 0.90405059 0.89961439 0.89549565 0.89166737\n",
      " 0.88810182 0.88477629 0.88166934 0.87876034 0.87602961 0.87345833\n",
      " 0.87102878 0.86872703 0.8665421  0.86446339]\n",
      "25 day output [[0.8624817]]\n",
      "26 day input [0.81417434 0.81543204 0.84593135 0.84574269 0.87303485 0.85284872\n",
      " 0.84102631 0.849956   0.84127785 0.8397686  0.84247266 0.85184255\n",
      " 0.85869704 0.86039494 0.85857127 0.85825684 0.86328765 0.85995474\n",
      " 0.8584455  0.88844172 0.89693122 0.89114578 0.89542197 0.88447995\n",
      " 0.89523332 0.8935983  0.8808955  0.88391399 0.87718528 0.85555278\n",
      " 0.83348009 0.84549115 0.85976608 0.84505096 0.84429633 0.8575651\n",
      " 0.86580306 0.87636777 0.87372659 0.87360082 0.86781539 0.87177715\n",
      " 0.87139984 0.88982519 0.88837883 0.88705825 0.90466609 0.91699158\n",
      " 0.91435041 0.92441203 0.91868948 0.93478809 0.94730223 0.97126148\n",
      " 0.97182745 0.99371148 0.9915105  0.98308389 0.95138977 0.95233305\n",
      " 0.9537794  0.94755377 0.95277324 0.960571   0.94415797 0.94057352\n",
      " 0.93705195 0.91674004 0.92579551 0.93944159 0.95227016 0.97931078\n",
      " 1.         0.99427745 0.9742102  0.95919526 0.95292944 0.94938397\n",
      " 0.94430083 0.93770981 0.93098748 0.92482758 0.91918647 0.91386825\n",
      " 0.90881181 0.90405059 0.89961439 0.89549565 0.89166737 0.88810182\n",
      " 0.88477629 0.88166934 0.87876034 0.87602961 0.87345833 0.87102878\n",
      " 0.86872703 0.8665421  0.86446339 0.86248171]\n",
      "26 day output [[0.8605897]]\n",
      "27 day input [0.81543204 0.84593135 0.84574269 0.87303485 0.85284872 0.84102631\n",
      " 0.849956   0.84127785 0.8397686  0.84247266 0.85184255 0.85869704\n",
      " 0.86039494 0.85857127 0.85825684 0.86328765 0.85995474 0.8584455\n",
      " 0.88844172 0.89693122 0.89114578 0.89542197 0.88447995 0.89523332\n",
      " 0.8935983  0.8808955  0.88391399 0.87718528 0.85555278 0.83348009\n",
      " 0.84549115 0.85976608 0.84505096 0.84429633 0.8575651  0.86580306\n",
      " 0.87636777 0.87372659 0.87360082 0.86781539 0.87177715 0.87139984\n",
      " 0.88982519 0.88837883 0.88705825 0.90466609 0.91699158 0.91435041\n",
      " 0.92441203 0.91868948 0.93478809 0.94730223 0.97126148 0.97182745\n",
      " 0.99371148 0.9915105  0.98308389 0.95138977 0.95233305 0.9537794\n",
      " 0.94755377 0.95277324 0.960571   0.94415797 0.94057352 0.93705195\n",
      " 0.91674004 0.92579551 0.93944159 0.95227016 0.97931078 1.\n",
      " 0.99427745 0.9742102  0.95919526 0.95292944 0.94938397 0.94430083\n",
      " 0.93770981 0.93098748 0.92482758 0.91918647 0.91386825 0.90881181\n",
      " 0.90405059 0.89961439 0.89549565 0.89166737 0.88810182 0.88477629\n",
      " 0.88166934 0.87876034 0.87602961 0.87345833 0.87102878 0.86872703\n",
      " 0.8665421  0.86446339 0.86248171 0.86058968]\n",
      "27 day output [[0.85878164]]\n",
      "28 day input [0.84593135 0.84574269 0.87303485 0.85284872 0.84102631 0.849956\n",
      " 0.84127785 0.8397686  0.84247266 0.85184255 0.85869704 0.86039494\n",
      " 0.85857127 0.85825684 0.86328765 0.85995474 0.8584455  0.88844172\n",
      " 0.89693122 0.89114578 0.89542197 0.88447995 0.89523332 0.8935983\n",
      " 0.8808955  0.88391399 0.87718528 0.85555278 0.83348009 0.84549115\n",
      " 0.85976608 0.84505096 0.84429633 0.8575651  0.86580306 0.87636777\n",
      " 0.87372659 0.87360082 0.86781539 0.87177715 0.87139984 0.88982519\n",
      " 0.88837883 0.88705825 0.90466609 0.91699158 0.91435041 0.92441203\n",
      " 0.91868948 0.93478809 0.94730223 0.97126148 0.97182745 0.99371148\n",
      " 0.9915105  0.98308389 0.95138977 0.95233305 0.9537794  0.94755377\n",
      " 0.95277324 0.960571   0.94415797 0.94057352 0.93705195 0.91674004\n",
      " 0.92579551 0.93944159 0.95227016 0.97931078 1.         0.99427745\n",
      " 0.9742102  0.95919526 0.95292944 0.94938397 0.94430083 0.93770981\n",
      " 0.93098748 0.92482758 0.91918647 0.91386825 0.90881181 0.90405059\n",
      " 0.89961439 0.89549565 0.89166737 0.88810182 0.88477629 0.88166934\n",
      " 0.87876034 0.87602961 0.87345833 0.87102878 0.86872703 0.8665421\n",
      " 0.86446339 0.86248171 0.86058968 0.85878164]\n",
      "28 day output [[0.8570522]]\n",
      "29 day input [0.84574269 0.87303485 0.85284872 0.84102631 0.849956   0.84127785\n",
      " 0.8397686  0.84247266 0.85184255 0.85869704 0.86039494 0.85857127\n",
      " 0.85825684 0.86328765 0.85995474 0.8584455  0.88844172 0.89693122\n",
      " 0.89114578 0.89542197 0.88447995 0.89523332 0.8935983  0.8808955\n",
      " 0.88391399 0.87718528 0.85555278 0.83348009 0.84549115 0.85976608\n",
      " 0.84505096 0.84429633 0.8575651  0.86580306 0.87636777 0.87372659\n",
      " 0.87360082 0.86781539 0.87177715 0.87139984 0.88982519 0.88837883\n",
      " 0.88705825 0.90466609 0.91699158 0.91435041 0.92441203 0.91868948\n",
      " 0.93478809 0.94730223 0.97126148 0.97182745 0.99371148 0.9915105\n",
      " 0.98308389 0.95138977 0.95233305 0.9537794  0.94755377 0.95277324\n",
      " 0.960571   0.94415797 0.94057352 0.93705195 0.91674004 0.92579551\n",
      " 0.93944159 0.95227016 0.97931078 1.         0.99427745 0.9742102\n",
      " 0.95919526 0.95292944 0.94938397 0.94430083 0.93770981 0.93098748\n",
      " 0.92482758 0.91918647 0.91386825 0.90881181 0.90405059 0.89961439\n",
      " 0.89549565 0.89166737 0.88810182 0.88477629 0.88166934 0.87876034\n",
      " 0.87602961 0.87345833 0.87102878 0.86872703 0.8665421  0.86446339\n",
      " 0.86248171 0.86058968 0.85878164 0.85705221]\n",
      "29 day output [[0.85539764]]\n",
      "[[0.9742102026939392], [0.9591952562332153], [0.9529294371604919], [0.9493839740753174], [0.9443008303642273], [0.9377098083496094], [0.9309874773025513], [0.9248275756835938], [0.9191864728927612], [0.913868248462677], [0.9088118076324463], [0.9040505886077881], [0.8996143937110901], [0.8954956531524658], [0.891667366027832], [0.8881018161773682], [0.8847762942314148], [0.8816693425178528], [0.8787603378295898], [0.8760296106338501], [0.8734583258628845], [0.8710287809371948], [0.8687270283699036], [0.8665421009063721], [0.8644633889198303], [0.8624817132949829], [0.8605896830558777], [0.858781635761261], [0.857052206993103], [0.855397641658783]]\n"
     ]
    }
   ],
   "source": [
    "# demonstrate prediction for next 10 days\n",
    "from numpy import array\n",
    "\n",
    "lst_output=[]\n",
    "n_steps=100\n",
    "i=0\n",
    "while(i<30):\n",
    "    \n",
    "    if(len(temp_input)>100):\n",
    "        #print(temp_input)\n",
    "        x_input=np.array(temp_input[1:])\n",
    "        print(\"{} day input {}\".format(i,x_input))\n",
    "        x_input=x_input.reshape(1,-1)\n",
    "        x_input = x_input.reshape((1, n_steps, 1))\n",
    "        #print(x_input)\n",
    "        yhat = model.predict(x_input, verbose=0)\n",
    "        print(\"{} day output {}\".format(i,yhat))\n",
    "        temp_input.extend(yhat[0].tolist())\n",
    "        temp_input=temp_input[1:]\n",
    "        #print(temp_input)\n",
    "        lst_output.extend(yhat.tolist())\n",
    "        i=i+1\n",
    "    else:\n",
    "        x_input = x_input.reshape((1, n_steps,1))\n",
    "        yhat = model.predict(x_input, verbose=0)\n",
    "        print(yhat[0])\n",
    "        temp_input.extend(yhat[0].tolist())\n",
    "        print(len(temp_input))\n",
    "        lst_output.extend(yhat.tolist())\n",
    "        i=i+1\n",
    "    \n",
    "\n",
    "print(lst_output)"
   ]
  },
  {
   "cell_type": "code",
   "execution_count": 61,
   "metadata": {},
   "outputs": [],
   "source": [
    "day_new=np.arange(1,101)\n",
    "day_pred=np.arange(101,131)"
   ]
  },
  {
   "cell_type": "code",
   "execution_count": 62,
   "metadata": {},
   "outputs": [],
   "source": [
    "import matplotlib.pyplot as plt"
   ]
  },
  {
   "cell_type": "code",
   "execution_count": 63,
   "metadata": {},
   "outputs": [
    {
     "data": {
      "text/plain": [
       "3449"
      ]
     },
     "execution_count": 63,
     "metadata": {},
     "output_type": "execute_result"
    }
   ],
   "source": [
    "len(df1)"
   ]
  },
  {
   "cell_type": "code",
   "execution_count": 64,
   "metadata": {},
   "outputs": [
    {
     "data": {
      "text/plain": [
       "[<matplotlib.lines.Line2D at 0x20637e299c0>]"
      ]
     },
     "execution_count": 64,
     "metadata": {},
     "output_type": "execute_result"
    },
    {
     "data": {
      "image/png": "[encoded data removed]",
      "text/plain": [
       "<Figure size 640x480 with 1 Axes>"
      ]
     },
     "metadata": {},
     "output_type": "display_data"
    }
   ],
   "source": [
    "plt.plot(day_new,scaler.inverse_transform(df1[3349:]))\n",
    "plt.plot(day_pred,scaler.inverse_transform(lst_output))"
   ]
  },
  {
   "cell_type": "code",
   "execution_count": 71,
   "metadata": {},
   "outputs": [
    {
     "data": {
      "text/plain": [
       "[<matplotlib.lines.Line2D at 0x2063e9eabc0>]"
      ]
     },
     "execution_count": 71,
     "metadata": {},
     "output_type": "execute_result"
    },
    {
     "data": {
      "image/png": "[encoded data removed]",
      "text/plain": [
       "<Figure size 640x480 with 1 Axes>"
      ]
     },
     "metadata": {},
     "output_type": "display_data"
    }
   ],
   "source": [
    "df3=df1.tolist()\n",
    "df3.extend(lst_output)\n",
    "plt.plot(df3[3350:])"
   ]
  },
  {
   "cell_type": "code",
   "execution_count": 72,
   "metadata": {},
   "outputs": [],
   "source": [
    "df3=scaler.inverse_transform(df3).tolist()\n"
   ]
  },
  {
   "cell_type": "code",
   "execution_count": 73,
   "metadata": {},
   "outputs": [
    {
     "data": {
      "text/plain": [
       "[<matplotlib.lines.Line2D at 0x2063ea3d6f0>]"
      ]
     },
     "execution_count": 73,
     "metadata": {},
     "output_type": "execute_result"
    },
    {
     "data": {
      "image/png": "[encoded data removed]",
      "text/plain": [
       "<Figure size 640x480 with 1 Axes>"
      ]
     },
     "metadata": {},
     "output_type": "display_data"
    }
   ],
   "source": [
    "plt.plot(df3)"
   ]
  },
  {
   "cell_type": "code",
   "execution_count": 74,
   "metadata": {},
   "outputs": [],
   "source": [
    "from powerbiclient import QuickVisualize,get_dataset_config,Report\n",
    "from powerbiclient.authentication import DeviceCodeLoginAuthentication\n",
    "from powerbiclient.authentication import InteractiveLoginAuthentication\n",
    "import pandas as pd"
   ]
  },
  {
   "cell_type": "code",
   "execution_count": 75,
   "metadata": {},
   "outputs": [
    {
     "name": "stdout",
     "output_type": "stream",
     "text": [
      "A local browser window will open for interactive sign in.\n",
      "\n",
      "Interactive authentication successfully completed.\n",
      "You are now logged in.\n",
      "\n",
      "The result should be passed only to trusted code in your notebook.\n"
     ]
    }
   ],
   "source": [
    "device_auth=InteractiveLoginAuthentication()"
   ]
  },
  {
   "cell_type": "code",
   "execution_count": 91,
   "metadata": {},
   "outputs": [],
   "source": [
    "df_visualize = pd.DataFrame(df3)"
   ]
  },
  {
   "cell_type": "code",
   "execution_count": 92,
   "metadata": {},
   "outputs": [],
   "source": [
    "PBI_visualize= QuickVisualize(get_dataset_config(df_visualize),auth=device_auth)"
   ]
  },
  {
   "cell_type": "code",
   "execution_count": 93,
   "metadata": {},
   "outputs": [
    {
     "data": {
      "application/vnd.jupyter.widget-view+json": {
       "model_id": "7ef4caa1e1fb42f19e772a5b3db42621",
       "version_major": 2,
       "version_minor": 0
      },
      "text/plain": [
       "QuickVisualize()"
      ]
     },
     "metadata": {},
     "output_type": "display_data"
    }
   ],
   "source": [
    "PBI_visualize"
   ]
  },
  {
   "cell_type": "code",
   "execution_count": null,
   "metadata": {},
   "outputs": [],
   "source": []
  }
 ],
 "metadata": {
  "kernelspec": {
   "display_name": "base",
   "language": "python",
   "name": "python3"
  },
  "language_info": {
   "codemirror_mode": {
    "name": "ipython",
    "version": 3
   },
   "file_extension": ".py",
   "mimetype": "text/x-python",
   "name": "python",
   "nbconvert_exporter": "python",
   "pygments_lexer": "ipython3",
   "version": "0.0.0"
  }
 },
 "nbformat": 4,
 "nbformat_minor": 2
}
